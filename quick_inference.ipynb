{
 "cells": [
  {
   "cell_type": "code",
   "execution_count": 1,
   "metadata": {},
   "outputs": [
    {
     "name": "stderr",
     "output_type": "stream",
     "text": [
      "/root/anaconda3/envs/dyMEAN/lib/python3.8/site-packages/tqdm/auto.py:21: TqdmWarning: IProgress not found. Please update jupyter and ipywidgets. See https://ipywidgets.readthedocs.io/en/stable/user_install.html\n",
      "  from .autonotebook import tqdm as notebook_tqdm\n"
     ]
    }
   ],
   "source": [
    "import torch\n",
    "from omegaconf import OmegaConf\n",
    "from src.metoken_model import MeToken_Model\n",
    "from src.datasets.featurizer import featurize\n",
    "from inference import get_seq_str, apply_ptm_indices"
   ]
  },
  {
   "cell_type": "code",
   "execution_count": 2,
   "metadata": {},
   "outputs": [],
   "source": [
    "# checkpoint\n",
    "checkpoint_path = 'pretrained_model/checkpoint.ckpt'\n",
    "# inference example\n",
    "pdb_file_path = 'examples/Q16613.pdb'\n",
    "output_json_path = 'examples/predict.json'\n",
    "output_path = 'examples/predict.hdf5'\n",
    "# - predict the PTM type at the certain positions\n",
    "predict_indices = [31]"
   ]
  },
  {
   "cell_type": "code",
   "execution_count": 4,
   "metadata": {},
   "outputs": [],
   "source": [
    "# load the data\n",
    "protein_data = get_seq_str(pdb_file_path)\n",
    "protein_data = apply_ptm_indices(protein_data, predict_indices)\n",
    "data = featurize([protein_data])"
   ]
  },
  {
   "cell_type": "code",
   "execution_count": 3,
   "metadata": {},
   "outputs": [
    {
     "data": {
      "text/plain": [
       "<All keys matched successfully>"
      ]
     },
     "execution_count": 3,
     "metadata": {},
     "output_type": "execute_result"
    }
   ],
   "source": [
    "# load the model\n",
    "checkpoint = torch.load(checkpoint_path)\n",
    "params = OmegaConf.load('configs/MeToken.yaml')\n",
    "model = MeToken_Model(params)\n",
    "model.load_state_dict(checkpoint)"
   ]
  },
  {
   "cell_type": "code",
   "execution_count": 5,
   "metadata": {},
   "outputs": [
    {
     "name": "stdout",
     "output_type": "stream",
     "text": [
      "PTM type at the position 31 is 24.\n",
      "\n"
     ]
    }
   ],
   "source": [
    "result = model(data)\n",
    "preds = result['log_probs'].argmax(dim=-1).cpu()\n",
    "\n",
    "for pos in predict_indices:\n",
    "    print(f'PTM type at the position {pos} is {preds[pos]}.\\n')"
   ]
  },
  {
   "cell_type": "code",
   "execution_count": null,
   "metadata": {},
   "outputs": [],
   "source": []
  }
 ],
 "metadata": {
  "kernelspec": {
   "display_name": "dyMEAN",
   "language": "python",
   "name": "python3"
  },
  "language_info": {
   "codemirror_mode": {
    "name": "ipython",
    "version": 3
   },
   "file_extension": ".py",
   "mimetype": "text/x-python",
   "name": "python",
   "nbconvert_exporter": "python",
   "pygments_lexer": "ipython3",
   "version": "3.8.18"
  }
 },
 "nbformat": 4,
 "nbformat_minor": 2
}
